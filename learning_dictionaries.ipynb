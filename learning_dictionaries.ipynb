{
 "cells": [
  {
   "cell_type": "markdown",
   "id": "405e3d40",
   "metadata": {},
   "source": [
    "# Aprendendo dicionários em python:\n",
    "\n",
    "tutorial 1: https://www.youtube.com/watch?v=n4SOW80qpEs&ab_channel=Finxter-CreateYourCodingBusiness \n",
    "how to work with dictionaries\n",
    "\n",
    "tutorial 2: https://www.youtube.com/watch?v=oQfNYqz8pLs&ab_channel=Academind\n",
    "accessing nested values\n"
   ]
  },
  {
   "cell_type": "code",
   "execution_count": 18,
   "id": "48ebfc3c",
   "metadata": {},
   "outputs": [],
   "source": [
    "names = {1: 'Alice',\n",
    "        2 : 'Pedro',\n",
    "        3 : 'Mariana',\n",
    "        4: 'Mara',\n",
    "        5:'Alex'}"
   ]
  },
  {
   "cell_type": "code",
   "execution_count": 23,
   "id": "b1f300f0",
   "metadata": {},
   "outputs": [
    {
     "name": "stdout",
     "output_type": "stream",
     "text": [
      "{2: 'Pedro', 4: 'Mara'}\n"
     ]
    }
   ],
   "source": [
    "#fazendo um dicionário de outro dicionário:\n",
    "\n",
    "new_dict = dict()\n",
    "\n",
    "for key , value in names.items():\n",
    "    if key%2 == 0:\n",
    "        new_dict[key] = value\n",
    "\n",
    "print(new_dict)"
   ]
  },
  {
   "cell_type": "markdown",
   "id": "da9d0344",
   "metadata": {},
   "source": [
    "Tradução: para cada par key value dentro dos itens de 'names', if key is \"even\" , crie uma nova key em new_dict com o valor dessa key"
   ]
  },
  {
   "cell_type": "markdown",
   "id": "97e4e46c",
   "metadata": {},
   "source": [
    "Agora eu vou cirar uma função, que vai me permitir só mudar a condição para se criar um novo dicionário:"
   ]
  },
  {
   "cell_type": "code",
   "execution_count": 24,
   "id": "9ac158a0",
   "metadata": {},
   "outputs": [],
   "source": [
    "def filter_dict(d,f):\n",
    "    new_dict = dict()\n",
    "    for key , value in d.items():\n",
    "        if f(key, value):\n",
    "            new_dict[key] = value\n",
    "    return new_dict"
   ]
  },
  {
   "cell_type": "markdown",
   "id": "eb63e8fb",
   "metadata": {},
   "source": [
    "tradução: crie uma função chamada filter_dict que eu vou incluir os parâmetros d (dicionario) e f(função).\n",
    "    Essa função vai criar um novo dicionário new_dict, que para cada par key e value dentro dos itens do dicionário d \n",
    "    eu vou rodar uma condição f, se a condição for verdadeira, adicione a nova key no novo dicionário com o valor value\n",
    "    e me retorne o novo dicionário"
   ]
  },
  {
   "cell_type": "code",
   "execution_count": 25,
   "id": "2d8f0360",
   "metadata": {},
   "outputs": [
    {
     "name": "stdout",
     "output_type": "stream",
     "text": [
      "{2: 'Pedro', 4: 'Mara'}\n",
      "{1: 'Alice', 5: 'Alex'}\n"
     ]
    }
   ],
   "source": [
    "print(filter_dict(names, lambda k,v: k%2 == 0))\n",
    "print(filter_dict(names, lambda k,v: v.startswith('A')))"
   ]
  },
  {
   "cell_type": "markdown",
   "id": "a6512b04",
   "metadata": {},
   "source": [
    "Um outro jeito de filtrar é usando a função filter dentro do dicionário. Eu vou usar o lambda para coletar um elemento dentro dos itens de names e passar uma função:"
   ]
  },
  {
   "cell_type": "code",
   "execution_count": 27,
   "id": "4902f078",
   "metadata": {},
   "outputs": [
    {
     "name": "stdout",
     "output_type": "stream",
     "text": [
      "{2: 'Pedro', 4: 'Mara'}\n"
     ]
    }
   ],
   "source": [
    "print(dict(filter(lambda x : x[0]%2 == 0, names.items())))"
   ]
  },
  {
   "cell_type": "markdown",
   "id": "e7f7104a",
   "metadata": {},
   "source": [
    "Tradução: o filtro dentro de um dicionário considerando x a primeira parte dos itens (x[0]) quando ele for par"
   ]
  },
  {
   "cell_type": "code",
   "execution_count": 28,
   "id": "efc546e5",
   "metadata": {},
   "outputs": [
    {
     "name": "stdout",
     "output_type": "stream",
     "text": [
      "{1: 'Alice', 5: 'Alex'}\n"
     ]
    }
   ],
   "source": [
    "print(dict(filter(lambda x : x[1].startswith('A'), names.items())))"
   ]
  },
  {
   "cell_type": "markdown",
   "id": "37aa1286",
   "metadata": {},
   "source": [
    "Tradução: o filtro dentro de um dicionário considerando x a segunda parte dos itens (x[1], ou seja, valor) quando começar com a letra A"
   ]
  },
  {
   "cell_type": "markdown",
   "id": "32458cb1",
   "metadata": {},
   "source": [
    "Agora vamos trabalhar com dictionary comprehension:"
   ]
  },
  {
   "cell_type": "code",
   "execution_count": 30,
   "id": "26e9f811",
   "metadata": {},
   "outputs": [
    {
     "name": "stdout",
     "output_type": "stream",
     "text": [
      "{1: 'Alice', 5: 'Alex'}\n",
      "{2: 'Pedro', 4: 'Mara'}\n"
     ]
    }
   ],
   "source": [
    "#print({expression context}):\n",
    "print({k:v for (k,v) in names.items() if v.startswith('A')})\n",
    "print({k:v for (k,v) in names.items() if k%2 == 0})"
   ]
  }
 ],
 "metadata": {
  "kernelspec": {
   "display_name": "Python 3 (ipykernel)",
   "language": "python",
   "name": "python3"
  },
  "language_info": {
   "codemirror_mode": {
    "name": "ipython",
    "version": 3
   },
   "file_extension": ".py",
   "mimetype": "text/x-python",
   "name": "python",
   "nbconvert_exporter": "python",
   "pygments_lexer": "ipython3",
   "version": "3.9.7"
  }
 },
 "nbformat": 4,
 "nbformat_minor": 5
}
